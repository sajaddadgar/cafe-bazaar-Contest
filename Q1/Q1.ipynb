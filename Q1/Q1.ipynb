{
 "cells": [
  {
   "cell_type": "markdown",
   "metadata": {
    "id": "1pR99_U12IQR"
   },
   "source": [
    "# Importing the libraries"
   ]
  },
  {
   "cell_type": "code",
   "execution_count": 1,
   "metadata": {
    "id": "PjsKFjY0a2jV"
   },
   "outputs": [],
   "source": [
    "import numpy as np\n",
    "import pandas as pd\n",
    "\n",
    "from scipy.sparse import csr_matrix\n",
    "from sklearn.preprocessing import LabelEncoder\n",
    "from sklearn.model_selection import train_test_split\n",
    "from sklearn.metrics.pairwise import cosine_similarity\n",
    "\n",
    "import keras\n",
    "import tensorflow as tf\n",
    "from tensorflow.keras.models import Sequential\n",
    "from keras.utils.np_utils import to_categorical\n",
    "from tensorflow.keras.preprocessing.text import Tokenizer\n",
    "from tensorflow.keras.preprocessing.sequence import pad_sequences\n",
    "\n",
    "from tensorflow.keras.layers import Embedding, Dense, LSTM, Dropout, Bidirectional,\\\n",
    " Conv1D, GlobalMaxPooling1D, MaxPooling1D\n",
    "from tensorflow.keras.callbacks import EarlyStopping, ModelCheckpoint\n",
    "\n",
    "from keras.backend import clear_session"
   ]
  },
  {
   "cell_type": "markdown",
   "metadata": {
    "id": "YtnC8Xok80me"
   },
   "source": [
    "# Loading the data"
   ]
  },
  {
   "cell_type": "code",
   "execution_count": 2,
   "metadata": {
    "id": "r1QYzpJMa2mi"
   },
   "outputs": [],
   "source": [
    "df_train = pd.read_csv('train.csv')\n",
    "df_test = pd.read_csv('test.csv')"
   ]
  },
  {
   "cell_type": "markdown",
   "metadata": {
    "id": "7Xf4uYXFB05o"
   },
   "source": [
    "# Method 2. Collaborative filtering\n",
    "In this method, we would recommend the next games based on how similar users downloaded games. For example, if user1 and user2 download similar games, e.g., user1 download game1, game2, games3 and user2 game1, game2, we would recommend game3 to user2."
   ]
  },
  {
   "cell_type": "markdown",
   "metadata": {
    "id": "QGspjBXlAi1X"
   },
   "source": [
    "## Data preparation\n",
    "We convert the format of the dataset into a binary dataset. For every (user_id, game_id), we will add a 1 as downloaded. That means that this user has downloaded this game, and we use this binary data for our recommendation system."
   ]
  },
  {
   "cell_type": "code",
   "execution_count": 11,
   "metadata": {
    "colab": {
     "base_uri": "https://localhost:8080/",
     "height": 204
    },
    "id": "w2mtC3S9Ajw1",
    "outputId": "4624eb7f-4310-447e-9e4d-ce8d6fc66368"
   },
   "outputs": [
    {
     "data": {
      "text/html": [
       "<div>\n",
       "<style scoped>\n",
       "    .dataframe tbody tr th:only-of-type {\n",
       "        vertical-align: middle;\n",
       "    }\n",
       "\n",
       "    .dataframe tbody tr th {\n",
       "        vertical-align: top;\n",
       "    }\n",
       "\n",
       "    .dataframe thead th {\n",
       "        text-align: right;\n",
       "    }\n",
       "</style>\n",
       "<table border=\"1\" class=\"dataframe\">\n",
       "  <thead>\n",
       "    <tr style=\"text-align: right;\">\n",
       "      <th></th>\n",
       "      <th>user_id</th>\n",
       "      <th>game_id</th>\n",
       "      <th>downloaded</th>\n",
       "    </tr>\n",
       "  </thead>\n",
       "  <tbody>\n",
       "    <tr>\n",
       "      <th>0</th>\n",
       "      <td>2</td>\n",
       "      <td>3</td>\n",
       "      <td>1</td>\n",
       "    </tr>\n",
       "    <tr>\n",
       "      <th>1</th>\n",
       "      <td>2</td>\n",
       "      <td>12</td>\n",
       "      <td>1</td>\n",
       "    </tr>\n",
       "    <tr>\n",
       "      <th>2</th>\n",
       "      <td>2</td>\n",
       "      <td>262</td>\n",
       "      <td>1</td>\n",
       "    </tr>\n",
       "    <tr>\n",
       "      <th>3</th>\n",
       "      <td>2</td>\n",
       "      <td>6094</td>\n",
       "      <td>1</td>\n",
       "    </tr>\n",
       "    <tr>\n",
       "      <th>4</th>\n",
       "      <td>2</td>\n",
       "      <td>283</td>\n",
       "      <td>1</td>\n",
       "    </tr>\n",
       "  </tbody>\n",
       "</table>\n",
       "</div>"
      ],
      "text/plain": [
       "   user_id game_id  downloaded\n",
       "0        2       3           1\n",
       "1        2      12           1\n",
       "2        2     262           1\n",
       "3        2    6094           1\n",
       "4        2     283           1"
      ]
     },
     "execution_count": 11,
     "metadata": {
      "tags": []
     },
     "output_type": "execute_result"
    }
   ],
   "source": [
    "df_train['historical_games'] = df_train.apply(lambda x: x['historical_games'] + ' ' + str(x['next_game']), axis=1)\n",
    "df_train.drop(['next_game'], axis = 1, inplace=True)\n",
    "# Since the users are different in the training and the test, we mix the training and the test set\n",
    "df = pd.concat([df_train, df_test])\n",
    "\n",
    "df = pd.DataFrame([[i, k] for i, j in df.iloc[:, 0:2].values for k in j.split()], columns=['user_id', 'game_id'])\n",
    "df['downloaded'] = 1\n",
    "df.head()"
   ]
  },
  {
   "cell_type": "code",
   "execution_count": 13,
   "metadata": {
    "id": "O37MSgjhaw1z"
   },
   "outputs": [],
   "source": [
    "# calculate the game-game cosine similarity\n",
    "def Get_game_game_similarity(user_ids, game_ids):\n",
    "    gameUserMatrix = csr_matrix(([1]*len(user_ids), (game_ids, user_ids)))\n",
    "    similarity = cosine_similarity(gameUserMatrix)\n",
    "    return similarity, gameUserMatrix"
   ]
  },
  {
   "cell_type": "code",
   "execution_count": 17,
   "metadata": {
    "id": "SP5hvB7haw10"
   },
   "outputs": [],
   "source": [
    "def get_recommendations_from_similarity(similarity_matrix, gameUserMatrix, recom_game_num=5):\n",
    "    userGameMatrix = csr_matrix(gameUserMatrix.T)\n",
    "    userGameScores = userGameMatrix.dot(similarity_matrix)\n",
    "    lst = []\n",
    "    for user_id in range(userGameScores.shape[0]):\n",
    "        scores = userGameScores[user_id, :]\n",
    "        downloaded_games = userGameMatrix.indices[userGameMatrix.indptr[user_id]:                              \n",
    "        userGameMatrix.indptr[user_id+1]]\n",
    "                \n",
    "        scores[downloaded_games] = -1\n",
    "        top_game_ids = np.argsort(scores)[-recom_game_num:][::-1]\n",
    "        recommendations = pd.DataFrame(top_game_ids.reshape(1, -1), index=[user_id], columns=['Top%s' % (i+1) for i in range(recom_game_num)])\n",
    "        lst.append(recommendations)\n",
    "    return pd.concat(lst)"
   ]
  },
  {
   "cell_type": "code",
   "execution_count": 18,
   "metadata": {
    "id": "se2Cqxapaw11"
   },
   "outputs": [],
   "source": [
    "def get_recommendations(df):\n",
    "    user_label_encoder = LabelEncoder()\n",
    "    user_ids = user_label_encoder.fit_transform(df.user_id)\n",
    "    game_label_encoder = LabelEncoder()\n",
    "    game_ids = game_label_encoder.fit_transform(df.game_id)\n",
    "\n",
    "    similarity_matrix, gameUserMatrix = Get_game_game_similarity(user_ids, game_ids)\n",
    "    recommendations = get_recommendations_from_similarity(similarity_matrix, gameUserMatrix)\n",
    "\n",
    "    recommendations.index = user_label_encoder.inverse_transform(recommendations.index)\n",
    "    for i in range(recommendations.shape[1]):\n",
    "        recommendations.iloc[:, i] = game_label_encoder.inverse_transform(recommendations.iloc[:, i])\n",
    "    return recommendations"
   ]
  },
  {
   "cell_type": "code",
   "execution_count": 19,
   "metadata": {
    "colab": {
     "base_uri": "https://localhost:8080/",
     "height": 419
    },
    "id": "M_L9F6oIaw12",
    "outputId": "033ee6e6-b957-46a7-f2ed-8d600d6fbe7d"
   },
   "outputs": [
    {
     "data": {
      "text/html": [
       "<div>\n",
       "<style scoped>\n",
       "    .dataframe tbody tr th:only-of-type {\n",
       "        vertical-align: middle;\n",
       "    }\n",
       "\n",
       "    .dataframe tbody tr th {\n",
       "        vertical-align: top;\n",
       "    }\n",
       "\n",
       "    .dataframe thead th {\n",
       "        text-align: right;\n",
       "    }\n",
       "</style>\n",
       "<table border=\"1\" class=\"dataframe\">\n",
       "  <thead>\n",
       "    <tr style=\"text-align: right;\">\n",
       "      <th></th>\n",
       "      <th>Top1</th>\n",
       "      <th>Top2</th>\n",
       "      <th>Top3</th>\n",
       "      <th>Top4</th>\n",
       "      <th>Top5</th>\n",
       "    </tr>\n",
       "  </thead>\n",
       "  <tbody>\n",
       "    <tr>\n",
       "      <th>2</th>\n",
       "      <td>11</td>\n",
       "      <td>1</td>\n",
       "      <td>4</td>\n",
       "      <td>2</td>\n",
       "      <td>16</td>\n",
       "    </tr>\n",
       "    <tr>\n",
       "      <th>4</th>\n",
       "      <td>16</td>\n",
       "      <td>11</td>\n",
       "      <td>2</td>\n",
       "      <td>4</td>\n",
       "      <td>50</td>\n",
       "    </tr>\n",
       "    <tr>\n",
       "      <th>5</th>\n",
       "      <td>4</td>\n",
       "      <td>1</td>\n",
       "      <td>15</td>\n",
       "      <td>8</td>\n",
       "      <td>5</td>\n",
       "    </tr>\n",
       "    <tr>\n",
       "      <th>7</th>\n",
       "      <td>5</td>\n",
       "      <td>43</td>\n",
       "      <td>17</td>\n",
       "      <td>158</td>\n",
       "      <td>35</td>\n",
       "    </tr>\n",
       "    <tr>\n",
       "      <th>10</th>\n",
       "      <td>9</td>\n",
       "      <td>13</td>\n",
       "      <td>27</td>\n",
       "      <td>2</td>\n",
       "      <td>1</td>\n",
       "    </tr>\n",
       "    <tr>\n",
       "      <th>...</th>\n",
       "      <td>...</td>\n",
       "      <td>...</td>\n",
       "      <td>...</td>\n",
       "      <td>...</td>\n",
       "      <td>...</td>\n",
       "    </tr>\n",
       "    <tr>\n",
       "      <th>91418</th>\n",
       "      <td>11</td>\n",
       "      <td>1</td>\n",
       "      <td>2</td>\n",
       "      <td>79</td>\n",
       "      <td>108</td>\n",
       "    </tr>\n",
       "    <tr>\n",
       "      <th>91419</th>\n",
       "      <td>4</td>\n",
       "      <td>55</td>\n",
       "      <td>3</td>\n",
       "      <td>46</td>\n",
       "      <td>15</td>\n",
       "    </tr>\n",
       "    <tr>\n",
       "      <th>91420</th>\n",
       "      <td>4</td>\n",
       "      <td>15</td>\n",
       "      <td>3</td>\n",
       "      <td>32</td>\n",
       "      <td>5</td>\n",
       "    </tr>\n",
       "    <tr>\n",
       "      <th>91421</th>\n",
       "      <td>1</td>\n",
       "      <td>4</td>\n",
       "      <td>3</td>\n",
       "      <td>11</td>\n",
       "      <td>21</td>\n",
       "    </tr>\n",
       "    <tr>\n",
       "      <th>91423</th>\n",
       "      <td>1</td>\n",
       "      <td>12</td>\n",
       "      <td>11</td>\n",
       "      <td>2</td>\n",
       "      <td>22</td>\n",
       "    </tr>\n",
       "  </tbody>\n",
       "</table>\n",
       "<p>43661 rows × 5 columns</p>\n",
       "</div>"
      ],
      "text/plain": [
       "      Top1 Top2 Top3 Top4 Top5\n",
       "2       11    1    4    2   16\n",
       "4       16   11    2    4   50\n",
       "5        4    1   15    8    5\n",
       "7        5   43   17  158   35\n",
       "10       9   13   27    2    1\n",
       "...    ...  ...  ...  ...  ...\n",
       "91418   11    1    2   79  108\n",
       "91419    4   55    3   46   15\n",
       "91420    4   15    3   32    5\n",
       "91421    1    4    3   11   21\n",
       "91423    1   12   11    2   22\n",
       "\n",
       "[43661 rows x 5 columns]"
      ]
     },
     "execution_count": 19,
     "metadata": {
      "tags": []
     },
     "output_type": "execute_result"
    }
   ],
   "source": [
    "recommendations = get_recommendations(df)\n",
    "recommendations"
   ]
  },
  {
   "cell_type": "code",
   "execution_count": 40,
   "metadata": {
    "colab": {
     "base_uri": "https://localhost:8080/",
     "height": 204
    },
    "id": "AzwA1Cx4aw19",
    "outputId": "6b1abb3e-f1d8-4b23-af81-c63f272e3e46"
   },
   "outputs": [
    {
     "data": {
      "text/html": [
       "<div>\n",
       "<style scoped>\n",
       "    .dataframe tbody tr th:only-of-type {\n",
       "        vertical-align: middle;\n",
       "    }\n",
       "\n",
       "    .dataframe tbody tr th {\n",
       "        vertical-align: top;\n",
       "    }\n",
       "\n",
       "    .dataframe thead th {\n",
       "        text-align: right;\n",
       "    }\n",
       "</style>\n",
       "<table border=\"1\" class=\"dataframe\">\n",
       "  <thead>\n",
       "    <tr style=\"text-align: right;\">\n",
       "      <th></th>\n",
       "      <th>Top1</th>\n",
       "      <th>Top2</th>\n",
       "      <th>Top3</th>\n",
       "      <th>Top4</th>\n",
       "      <th>Top5</th>\n",
       "    </tr>\n",
       "  </thead>\n",
       "  <tbody>\n",
       "    <tr>\n",
       "      <th>5</th>\n",
       "      <td>4</td>\n",
       "      <td>1</td>\n",
       "      <td>15</td>\n",
       "      <td>8</td>\n",
       "      <td>5</td>\n",
       "    </tr>\n",
       "    <tr>\n",
       "      <th>13</th>\n",
       "      <td>14</td>\n",
       "      <td>45</td>\n",
       "      <td>6</td>\n",
       "      <td>18</td>\n",
       "      <td>70</td>\n",
       "    </tr>\n",
       "    <tr>\n",
       "      <th>20</th>\n",
       "      <td>289</td>\n",
       "      <td>20</td>\n",
       "      <td>2</td>\n",
       "      <td>8</td>\n",
       "      <td>24</td>\n",
       "    </tr>\n",
       "    <tr>\n",
       "      <th>25</th>\n",
       "      <td>45</td>\n",
       "      <td>6</td>\n",
       "      <td>23</td>\n",
       "      <td>14</td>\n",
       "      <td>8</td>\n",
       "    </tr>\n",
       "    <tr>\n",
       "      <th>32</th>\n",
       "      <td>11</td>\n",
       "      <td>12</td>\n",
       "      <td>4</td>\n",
       "      <td>2</td>\n",
       "      <td>22</td>\n",
       "    </tr>\n",
       "  </tbody>\n",
       "</table>\n",
       "</div>"
      ],
      "text/plain": [
       "   Top1 Top2 Top3 Top4 Top5\n",
       "5     4    1   15    8    5\n",
       "13   14   45    6   18   70\n",
       "20  289   20    2    8   24\n",
       "25   45    6   23   14    8\n",
       "32   11   12    4    2   22"
      ]
     },
     "execution_count": 40,
     "metadata": {
      "tags": []
     },
     "output_type": "execute_result"
    }
   ],
   "source": [
    "final_df = recommendations[recommendations.index.isin(df_test['id'].values)]\n",
    "final_df.head()"
   ]
  },
  {
   "cell_type": "code",
   "execution_count": 41,
   "metadata": {
    "id": "B5skvdWhaw1-"
   },
   "outputs": [],
   "source": [
    "game = []\n",
    "for i in final_df.iloc[:, 0:6].values:\n",
    "    q = []\n",
    "    for j in i:\n",
    "        q.append(str(j))\n",
    "    b = \" \".join(q)\n",
    "    game.append(b)\n",
    "\n",
    "final_df['next_games'] = game"
   ]
  },
  {
   "cell_type": "code",
   "execution_count": 42,
   "metadata": {
    "colab": {
     "base_uri": "https://localhost:8080/",
     "height": 204
    },
    "id": "dSekzv3Uaw2B",
    "outputId": "16c986d4-7474-45f9-ff75-064b3bbe125c"
   },
   "outputs": [
    {
     "data": {
      "text/html": [
       "<div>\n",
       "<style scoped>\n",
       "    .dataframe tbody tr th:only-of-type {\n",
       "        vertical-align: middle;\n",
       "    }\n",
       "\n",
       "    .dataframe tbody tr th {\n",
       "        vertical-align: top;\n",
       "    }\n",
       "\n",
       "    .dataframe thead th {\n",
       "        text-align: right;\n",
       "    }\n",
       "</style>\n",
       "<table border=\"1\" class=\"dataframe\">\n",
       "  <thead>\n",
       "    <tr style=\"text-align: right;\">\n",
       "      <th></th>\n",
       "      <th>next_games</th>\n",
       "    </tr>\n",
       "  </thead>\n",
       "  <tbody>\n",
       "    <tr>\n",
       "      <th>5</th>\n",
       "      <td>4 1 15 8 5</td>\n",
       "    </tr>\n",
       "    <tr>\n",
       "      <th>13</th>\n",
       "      <td>14 45 6 18 70</td>\n",
       "    </tr>\n",
       "    <tr>\n",
       "      <th>20</th>\n",
       "      <td>289 20 2 8 24</td>\n",
       "    </tr>\n",
       "    <tr>\n",
       "      <th>25</th>\n",
       "      <td>45 6 23 14 8</td>\n",
       "    </tr>\n",
       "    <tr>\n",
       "      <th>32</th>\n",
       "      <td>11 12 4 2 22</td>\n",
       "    </tr>\n",
       "  </tbody>\n",
       "</table>\n",
       "</div>"
      ],
      "text/plain": [
       "       next_games\n",
       "5      4 1 15 8 5\n",
       "13  14 45 6 18 70\n",
       "20  289 20 2 8 24\n",
       "25   45 6 23 14 8\n",
       "32   11 12 4 2 22"
      ]
     },
     "execution_count": 42,
     "metadata": {
      "tags": []
     },
     "output_type": "execute_result"
    }
   ],
   "source": [
    "final_df.drop(['Top1', 'Top2', 'Top3', 'Top4', 'Top5'], axis=1, inplace=True)\n",
    "final_df.head()"
   ]
  },
  {
   "cell_type": "code",
   "execution_count": 43,
   "metadata": {
    "id": "0OysK5fTaw2E"
   },
   "outputs": [],
   "source": [
    "final_df.to_csv('prediction.csv')"
   ]
  },
  {
   "cell_type": "markdown",
   "metadata": {
    "id": "9p3rLZd_FH0l"
   },
   "source": [
    "# Method 2. Deep learning"
   ]
  },
  {
   "cell_type": "markdown",
   "metadata": {},
   "source": [
    "We implemented LSTM and Bi-LSTM models on two types of training sets: type1 and type2. For each type, we tune the models' hyperparameter for achieving the best possible results. Although accuracy is inappropriate for recommender systems, we use this metric for evaluating the models. The implementation of best models are as follows:<br>\n",
    "### Type 1\n",
    "We use the pre_padding to pad each historical games to maximum length (29) and fed them into deep learning models"
   ]
  },
  {
   "cell_type": "code",
   "execution_count": 54,
   "metadata": {
    "id": "k2Bjhc94KZ3G"
   },
   "outputs": [],
   "source": [
    "df_train = pd.read_csv('train.csv')\n",
    "df_test = pd.read_csv('test.csv')"
   ]
  },
  {
   "cell_type": "code",
   "execution_count": 56,
   "metadata": {
    "id": "EeVifKcuM09g"
   },
   "outputs": [],
   "source": [
    "X = [list(map(int, i.split())) for i in df_train['historical_games']]\n",
    "y = df_train['next_game']"
   ]
  },
  {
   "cell_type": "code",
   "execution_count": 59,
   "metadata": {
    "colab": {
     "base_uri": "https://localhost:8080/",
     "height": 204
    },
    "id": "c6fx8rOtM1Tk",
    "outputId": "6fdb97b8-9cdd-483c-a500-dbf02a9604eb"
   },
   "outputs": [
    {
     "data": {
      "text/html": [
       "<div>\n",
       "<style scoped>\n",
       "    .dataframe tbody tr th:only-of-type {\n",
       "        vertical-align: middle;\n",
       "    }\n",
       "\n",
       "    .dataframe tbody tr th {\n",
       "        vertical-align: top;\n",
       "    }\n",
       "\n",
       "    .dataframe thead th {\n",
       "        text-align: right;\n",
       "    }\n",
       "</style>\n",
       "<table border=\"1\" class=\"dataframe\">\n",
       "  <thead>\n",
       "    <tr style=\"text-align: right;\">\n",
       "      <th></th>\n",
       "      <th>0</th>\n",
       "      <th>1</th>\n",
       "      <th>2</th>\n",
       "      <th>3</th>\n",
       "      <th>4</th>\n",
       "      <th>5</th>\n",
       "      <th>6</th>\n",
       "      <th>7</th>\n",
       "      <th>8</th>\n",
       "      <th>9</th>\n",
       "      <th>10</th>\n",
       "      <th>11</th>\n",
       "      <th>12</th>\n",
       "      <th>13</th>\n",
       "      <th>14</th>\n",
       "      <th>15</th>\n",
       "      <th>16</th>\n",
       "      <th>17</th>\n",
       "      <th>18</th>\n",
       "      <th>19</th>\n",
       "      <th>20</th>\n",
       "      <th>21</th>\n",
       "      <th>22</th>\n",
       "      <th>23</th>\n",
       "      <th>24</th>\n",
       "      <th>25</th>\n",
       "      <th>26</th>\n",
       "      <th>27</th>\n",
       "      <th>28</th>\n",
       "    </tr>\n",
       "  </thead>\n",
       "  <tbody>\n",
       "    <tr>\n",
       "      <th>0</th>\n",
       "      <td>0</td>\n",
       "      <td>0</td>\n",
       "      <td>0</td>\n",
       "      <td>0</td>\n",
       "      <td>0</td>\n",
       "      <td>0</td>\n",
       "      <td>0</td>\n",
       "      <td>0</td>\n",
       "      <td>0</td>\n",
       "      <td>0</td>\n",
       "      <td>0</td>\n",
       "      <td>0</td>\n",
       "      <td>0</td>\n",
       "      <td>0</td>\n",
       "      <td>0</td>\n",
       "      <td>0</td>\n",
       "      <td>0</td>\n",
       "      <td>0</td>\n",
       "      <td>0</td>\n",
       "      <td>0</td>\n",
       "      <td>0</td>\n",
       "      <td>3</td>\n",
       "      <td>12</td>\n",
       "      <td>262</td>\n",
       "      <td>6094</td>\n",
       "      <td>283</td>\n",
       "      <td>50</td>\n",
       "      <td>1070</td>\n",
       "      <td>233</td>\n",
       "    </tr>\n",
       "    <tr>\n",
       "      <th>1</th>\n",
       "      <td>0</td>\n",
       "      <td>0</td>\n",
       "      <td>0</td>\n",
       "      <td>0</td>\n",
       "      <td>0</td>\n",
       "      <td>0</td>\n",
       "      <td>0</td>\n",
       "      <td>0</td>\n",
       "      <td>0</td>\n",
       "      <td>0</td>\n",
       "      <td>0</td>\n",
       "      <td>0</td>\n",
       "      <td>0</td>\n",
       "      <td>0</td>\n",
       "      <td>0</td>\n",
       "      <td>0</td>\n",
       "      <td>0</td>\n",
       "      <td>0</td>\n",
       "      <td>0</td>\n",
       "      <td>0</td>\n",
       "      <td>0</td>\n",
       "      <td>0</td>\n",
       "      <td>0</td>\n",
       "      <td>0</td>\n",
       "      <td>294</td>\n",
       "      <td>241</td>\n",
       "      <td>1</td>\n",
       "      <td>150</td>\n",
       "      <td>12</td>\n",
       "    </tr>\n",
       "    <tr>\n",
       "      <th>2</th>\n",
       "      <td>0</td>\n",
       "      <td>0</td>\n",
       "      <td>0</td>\n",
       "      <td>0</td>\n",
       "      <td>0</td>\n",
       "      <td>0</td>\n",
       "      <td>0</td>\n",
       "      <td>0</td>\n",
       "      <td>0</td>\n",
       "      <td>0</td>\n",
       "      <td>0</td>\n",
       "      <td>0</td>\n",
       "      <td>0</td>\n",
       "      <td>0</td>\n",
       "      <td>0</td>\n",
       "      <td>0</td>\n",
       "      <td>0</td>\n",
       "      <td>0</td>\n",
       "      <td>0</td>\n",
       "      <td>0</td>\n",
       "      <td>0</td>\n",
       "      <td>0</td>\n",
       "      <td>0</td>\n",
       "      <td>0</td>\n",
       "      <td>85</td>\n",
       "      <td>139</td>\n",
       "      <td>144</td>\n",
       "      <td>57</td>\n",
       "      <td>2013</td>\n",
       "    </tr>\n",
       "    <tr>\n",
       "      <th>3</th>\n",
       "      <td>0</td>\n",
       "      <td>0</td>\n",
       "      <td>0</td>\n",
       "      <td>0</td>\n",
       "      <td>0</td>\n",
       "      <td>0</td>\n",
       "      <td>0</td>\n",
       "      <td>0</td>\n",
       "      <td>0</td>\n",
       "      <td>0</td>\n",
       "      <td>0</td>\n",
       "      <td>0</td>\n",
       "      <td>0</td>\n",
       "      <td>0</td>\n",
       "      <td>0</td>\n",
       "      <td>0</td>\n",
       "      <td>0</td>\n",
       "      <td>0</td>\n",
       "      <td>0</td>\n",
       "      <td>0</td>\n",
       "      <td>0</td>\n",
       "      <td>0</td>\n",
       "      <td>0</td>\n",
       "      <td>7</td>\n",
       "      <td>114</td>\n",
       "      <td>10</td>\n",
       "      <td>5</td>\n",
       "      <td>31</td>\n",
       "      <td>6504</td>\n",
       "    </tr>\n",
       "    <tr>\n",
       "      <th>4</th>\n",
       "      <td>0</td>\n",
       "      <td>0</td>\n",
       "      <td>0</td>\n",
       "      <td>0</td>\n",
       "      <td>0</td>\n",
       "      <td>0</td>\n",
       "      <td>0</td>\n",
       "      <td>0</td>\n",
       "      <td>0</td>\n",
       "      <td>0</td>\n",
       "      <td>0</td>\n",
       "      <td>0</td>\n",
       "      <td>0</td>\n",
       "      <td>0</td>\n",
       "      <td>5</td>\n",
       "      <td>221</td>\n",
       "      <td>3</td>\n",
       "      <td>712</td>\n",
       "      <td>159</td>\n",
       "      <td>4</td>\n",
       "      <td>810</td>\n",
       "      <td>94</td>\n",
       "      <td>746</td>\n",
       "      <td>6170</td>\n",
       "      <td>136</td>\n",
       "      <td>17</td>\n",
       "      <td>1160</td>\n",
       "      <td>78</td>\n",
       "      <td>113</td>\n",
       "    </tr>\n",
       "  </tbody>\n",
       "</table>\n",
       "</div>"
      ],
      "text/plain": [
       "   0   1   2   3   4   5   6   7   ...  21   22    23    24   25    26    27    28\n",
       "0   0   0   0   0   0   0   0   0  ...   3   12   262  6094  283    50  1070   233\n",
       "1   0   0   0   0   0   0   0   0  ...   0    0     0   294  241     1   150    12\n",
       "2   0   0   0   0   0   0   0   0  ...   0    0     0    85  139   144    57  2013\n",
       "3   0   0   0   0   0   0   0   0  ...   0    0     7   114   10     5    31  6504\n",
       "4   0   0   0   0   0   0   0   0  ...  94  746  6170   136   17  1160    78   113\n",
       "\n",
       "[5 rows x 29 columns]"
      ]
     },
     "execution_count": 59,
     "metadata": {
      "tags": []
     },
     "output_type": "execute_result"
    }
   ],
   "source": [
    "max_token = max(len(x) for x in X)\n",
    "X_padded = pad_sequences(X, padding='pre', maxlen=max_token)\n",
    "X_padded = np.array(X_padded)\n",
    "y = np.array(y)\n",
    "pd.DataFrame(X_padded).head()"
   ]
  },
  {
   "cell_type": "code",
   "execution_count": 60,
   "metadata": {
    "colab": {
     "base_uri": "https://localhost:8080/"
    },
    "id": "4bOVe4wYNSOG",
    "outputId": "533fc6da-59cd-4575-cae1-89b52eb5fbca"
   },
   "outputs": [
    {
     "data": {
      "text/plain": [
       "(30588, 29, 1)"
      ]
     },
     "execution_count": 60,
     "metadata": {
      "tags": []
     },
     "output_type": "execute_result"
    }
   ],
   "source": [
    "X_padded = X_padded.reshape(X_padded.shape[0], X_padded.shape[1], 1) # 29, 1\n",
    "X_padded.shape"
   ]
  },
  {
   "cell_type": "code",
   "execution_count": 65,
   "metadata": {
    "id": "fqioB835M2AS"
   },
   "outputs": [],
   "source": [
    "X_test = [list(map(int, i.split())) for i in df_test['historical_games']]\n",
    "X_test = pad_sequences(X_test, padding='pre', maxlen=29)\n",
    "X_test = X_test.reshape(13073, 29, 1)"
   ]
  },
  {
   "cell_type": "markdown",
   "metadata": {
    "id": "Ike9_YyIR3Dw"
   },
   "source": [
    "#### LSTM"
   ]
  },
  {
   "cell_type": "code",
   "execution_count": 77,
   "metadata": {},
   "outputs": [
    {
     "name": "stdout",
     "output_type": "stream",
     "text": [
      "Model: \"sequential\"\n",
      "_________________________________________________________________\n",
      "Layer (type)                 Output Shape              Param #   \n",
      "=================================================================\n",
      "lstm (LSTM)                  (None, 29, 256)           264192    \n",
      "_________________________________________________________________\n",
      "lstm_1 (LSTM)                (None, 256)               525312    \n",
      "_________________________________________________________________\n",
      "dropout (Dropout)            (None, 256)               0         \n",
      "_________________________________________________________________\n",
      "dense (Dense)                (None, 7737)              1988409   \n",
      "=================================================================\n",
      "Total params: 2,777,913\n",
      "Trainable params: 2,777,913\n",
      "Non-trainable params: 0\n",
      "_________________________________________________________________\n",
      "None\n"
     ]
    }
   ],
   "source": [
    "clear_session()\n",
    "model = Sequential()\n",
    "model.add(LSTM(256, return_sequences=True, input_shape=(X_padded.shape[1], 1)))\n",
    "model.add(LSTM(256))\n",
    "model.add(Dropout(0.2))\n",
    "model.add(Dense(7737, activation='softmax'))\n",
    "model.compile(optimizer = 'adam', loss=\"sparse_categorical_crossentropy\", metrics=['accuracy'])\n",
    "print(model.summary())\n",
    "\n",
    "my_callbacks = [ModelCheckpoint(\"./saved_models/checkpoints/best_model\", monitor='accuracy', verbose=1, save_best_only=True)]"
   ]
  },
  {
   "cell_type": "code",
   "execution_count": 78,
   "metadata": {},
   "outputs": [
    {
     "name": "stdout",
     "output_type": "stream",
     "text": [
      "Epoch 1/10\n",
      "478/478 [==============================] - 240s 490ms/step - loss: 6.1253 - accuracy: 0.0117\n",
      "\n",
      "Epoch 00001: accuracy improved from -inf to 0.01491, saving model to ./saved_models/checkpoints\\best_model\n"
     ]
    },
    {
     "name": "stderr",
     "output_type": "stream",
     "text": [
      "WARNING:absl:Found untraced functions such as lstm_cell_layer_call_fn, lstm_cell_layer_call_and_return_conditional_losses, lstm_cell_1_layer_call_fn, lstm_cell_1_layer_call_and_return_conditional_losses, lstm_cell_layer_call_fn while saving (showing 5 of 10). These functions will not be directly callable after loading.\n",
      "WARNING:absl:Found untraced functions such as lstm_cell_layer_call_fn, lstm_cell_layer_call_and_return_conditional_losses, lstm_cell_1_layer_call_fn, lstm_cell_1_layer_call_and_return_conditional_losses, lstm_cell_layer_call_fn while saving (showing 5 of 10). These functions will not be directly callable after loading.\n"
     ]
    },
    {
     "name": "stdout",
     "output_type": "stream",
     "text": [
      "INFO:tensorflow:Assets written to: ./saved_models/checkpoints\\best_model\\assets\n"
     ]
    },
    {
     "name": "stderr",
     "output_type": "stream",
     "text": [
      "INFO:tensorflow:Assets written to: ./saved_models/checkpoints\\best_model\\assets\n"
     ]
    },
    {
     "name": "stdout",
     "output_type": "stream",
     "text": [
      "Epoch 2/10\n",
      "478/478 [==============================] - 215s 449ms/step - loss: 5.5577 - accuracy: 0.0207\n",
      "\n",
      "Epoch 00002: accuracy improved from 0.01491 to 0.02243, saving model to ./saved_models/checkpoints\\best_model\n"
     ]
    },
    {
     "name": "stderr",
     "output_type": "stream",
     "text": [
      "WARNING:absl:Found untraced functions such as lstm_cell_layer_call_fn, lstm_cell_layer_call_and_return_conditional_losses, lstm_cell_1_layer_call_fn, lstm_cell_1_layer_call_and_return_conditional_losses, lstm_cell_layer_call_fn while saving (showing 5 of 10). These functions will not be directly callable after loading.\n",
      "WARNING:absl:Found untraced functions such as lstm_cell_layer_call_fn, lstm_cell_layer_call_and_return_conditional_losses, lstm_cell_1_layer_call_fn, lstm_cell_1_layer_call_and_return_conditional_losses, lstm_cell_layer_call_fn while saving (showing 5 of 10). These functions will not be directly callable after loading.\n"
     ]
    },
    {
     "name": "stdout",
     "output_type": "stream",
     "text": [
      "INFO:tensorflow:Assets written to: ./saved_models/checkpoints\\best_model\\assets\n"
     ]
    },
    {
     "name": "stderr",
     "output_type": "stream",
     "text": [
      "INFO:tensorflow:Assets written to: ./saved_models/checkpoints\\best_model\\assets\n"
     ]
    },
    {
     "name": "stdout",
     "output_type": "stream",
     "text": [
      "Epoch 3/10\n",
      "478/478 [==============================] - 346s 724ms/step - loss: 5.4964 - accuracy: 0.0280\n",
      "\n",
      "Epoch 00003: accuracy improved from 0.02243 to 0.02968, saving model to ./saved_models/checkpoints\\best_model\n"
     ]
    },
    {
     "name": "stderr",
     "output_type": "stream",
     "text": [
      "WARNING:absl:Found untraced functions such as lstm_cell_layer_call_fn, lstm_cell_layer_call_and_return_conditional_losses, lstm_cell_1_layer_call_fn, lstm_cell_1_layer_call_and_return_conditional_losses, lstm_cell_layer_call_fn while saving (showing 5 of 10). These functions will not be directly callable after loading.\n",
      "WARNING:absl:Found untraced functions such as lstm_cell_layer_call_fn, lstm_cell_layer_call_and_return_conditional_losses, lstm_cell_1_layer_call_fn, lstm_cell_1_layer_call_and_return_conditional_losses, lstm_cell_layer_call_fn while saving (showing 5 of 10). These functions will not be directly callable after loading.\n"
     ]
    },
    {
     "name": "stdout",
     "output_type": "stream",
     "text": [
      "INFO:tensorflow:Assets written to: ./saved_models/checkpoints\\best_model\\assets\n"
     ]
    },
    {
     "name": "stderr",
     "output_type": "stream",
     "text": [
      "INFO:tensorflow:Assets written to: ./saved_models/checkpoints\\best_model\\assets\n"
     ]
    },
    {
     "name": "stdout",
     "output_type": "stream",
     "text": [
      "Epoch 4/10\n",
      "478/478 [==============================] - 385s 804ms/step - loss: 5.4608 - accuracy: 0.0343\n",
      "\n",
      "Epoch 00004: accuracy improved from 0.02968 to 0.03465, saving model to ./saved_models/checkpoints\\best_model\n"
     ]
    },
    {
     "name": "stderr",
     "output_type": "stream",
     "text": [
      "WARNING:absl:Found untraced functions such as lstm_cell_layer_call_fn, lstm_cell_layer_call_and_return_conditional_losses, lstm_cell_1_layer_call_fn, lstm_cell_1_layer_call_and_return_conditional_losses, lstm_cell_layer_call_fn while saving (showing 5 of 10). These functions will not be directly callable after loading.\n",
      "WARNING:absl:Found untraced functions such as lstm_cell_layer_call_fn, lstm_cell_layer_call_and_return_conditional_losses, lstm_cell_1_layer_call_fn, lstm_cell_1_layer_call_and_return_conditional_losses, lstm_cell_layer_call_fn while saving (showing 5 of 10). These functions will not be directly callable after loading.\n"
     ]
    },
    {
     "name": "stdout",
     "output_type": "stream",
     "text": [
      "INFO:tensorflow:Assets written to: ./saved_models/checkpoints\\best_model\\assets\n"
     ]
    },
    {
     "name": "stderr",
     "output_type": "stream",
     "text": [
      "INFO:tensorflow:Assets written to: ./saved_models/checkpoints\\best_model\\assets\n"
     ]
    },
    {
     "name": "stdout",
     "output_type": "stream",
     "text": [
      "Epoch 5/10\n",
      "478/478 [==============================] - 408s 852ms/step - loss: 5.4122 - accuracy: 0.0408\n",
      "\n",
      "Epoch 00005: accuracy improved from 0.03465 to 0.04005, saving model to ./saved_models/checkpoints\\best_model\n"
     ]
    },
    {
     "name": "stderr",
     "output_type": "stream",
     "text": [
      "WARNING:absl:Found untraced functions such as lstm_cell_layer_call_fn, lstm_cell_layer_call_and_return_conditional_losses, lstm_cell_1_layer_call_fn, lstm_cell_1_layer_call_and_return_conditional_losses, lstm_cell_layer_call_fn while saving (showing 5 of 10). These functions will not be directly callable after loading.\n",
      "WARNING:absl:Found untraced functions such as lstm_cell_layer_call_fn, lstm_cell_layer_call_and_return_conditional_losses, lstm_cell_1_layer_call_fn, lstm_cell_1_layer_call_and_return_conditional_losses, lstm_cell_layer_call_fn while saving (showing 5 of 10). These functions will not be directly callable after loading.\n"
     ]
    },
    {
     "name": "stdout",
     "output_type": "stream",
     "text": [
      "INFO:tensorflow:Assets written to: ./saved_models/checkpoints\\best_model\\assets\n"
     ]
    },
    {
     "name": "stderr",
     "output_type": "stream",
     "text": [
      "INFO:tensorflow:Assets written to: ./saved_models/checkpoints\\best_model\\assets\n"
     ]
    },
    {
     "name": "stdout",
     "output_type": "stream",
     "text": [
      "Epoch 6/10\n",
      "478/478 [==============================] - 395s 826ms/step - loss: 5.3949 - accuracy: 0.0401\n",
      "\n",
      "Epoch 00006: accuracy improved from 0.04005 to 0.04185, saving model to ./saved_models/checkpoints\\best_model\n"
     ]
    },
    {
     "name": "stderr",
     "output_type": "stream",
     "text": [
      "WARNING:absl:Found untraced functions such as lstm_cell_layer_call_fn, lstm_cell_layer_call_and_return_conditional_losses, lstm_cell_1_layer_call_fn, lstm_cell_1_layer_call_and_return_conditional_losses, lstm_cell_layer_call_fn while saving (showing 5 of 10). These functions will not be directly callable after loading.\n",
      "WARNING:absl:Found untraced functions such as lstm_cell_layer_call_fn, lstm_cell_layer_call_and_return_conditional_losses, lstm_cell_1_layer_call_fn, lstm_cell_1_layer_call_and_return_conditional_losses, lstm_cell_layer_call_fn while saving (showing 5 of 10). These functions will not be directly callable after loading.\n"
     ]
    },
    {
     "name": "stdout",
     "output_type": "stream",
     "text": [
      "INFO:tensorflow:Assets written to: ./saved_models/checkpoints\\best_model\\assets\n"
     ]
    },
    {
     "name": "stderr",
     "output_type": "stream",
     "text": [
      "INFO:tensorflow:Assets written to: ./saved_models/checkpoints\\best_model\\assets\n"
     ]
    },
    {
     "name": "stdout",
     "output_type": "stream",
     "text": [
      "Epoch 7/10\n",
      "478/478 [==============================] - 390s 816ms/step - loss: 5.3664 - accuracy: 0.0441\n",
      "\n",
      "Epoch 00007: accuracy improved from 0.04185 to 0.04381, saving model to ./saved_models/checkpoints\\best_model\n"
     ]
    },
    {
     "name": "stderr",
     "output_type": "stream",
     "text": [
      "WARNING:absl:Found untraced functions such as lstm_cell_layer_call_fn, lstm_cell_layer_call_and_return_conditional_losses, lstm_cell_1_layer_call_fn, lstm_cell_1_layer_call_and_return_conditional_losses, lstm_cell_layer_call_fn while saving (showing 5 of 10). These functions will not be directly callable after loading.\n",
      "WARNING:absl:Found untraced functions such as lstm_cell_layer_call_fn, lstm_cell_layer_call_and_return_conditional_losses, lstm_cell_1_layer_call_fn, lstm_cell_1_layer_call_and_return_conditional_losses, lstm_cell_layer_call_fn while saving (showing 5 of 10). These functions will not be directly callable after loading.\n"
     ]
    },
    {
     "name": "stdout",
     "output_type": "stream",
     "text": [
      "INFO:tensorflow:Assets written to: ./saved_models/checkpoints\\best_model\\assets\n"
     ]
    },
    {
     "name": "stderr",
     "output_type": "stream",
     "text": [
      "INFO:tensorflow:Assets written to: ./saved_models/checkpoints\\best_model\\assets\n"
     ]
    },
    {
     "name": "stdout",
     "output_type": "stream",
     "text": [
      "Epoch 8/10\n",
      "478/478 [==============================] - 391s 818ms/step - loss: 5.3340 - accuracy: 0.0461\n",
      "\n",
      "Epoch 00008: accuracy improved from 0.04381 to 0.04570, saving model to ./saved_models/checkpoints\\best_model\n"
     ]
    },
    {
     "name": "stderr",
     "output_type": "stream",
     "text": [
      "WARNING:absl:Found untraced functions such as lstm_cell_layer_call_fn, lstm_cell_layer_call_and_return_conditional_losses, lstm_cell_1_layer_call_fn, lstm_cell_1_layer_call_and_return_conditional_losses, lstm_cell_layer_call_fn while saving (showing 5 of 10). These functions will not be directly callable after loading.\n",
      "WARNING:absl:Found untraced functions such as lstm_cell_layer_call_fn, lstm_cell_layer_call_and_return_conditional_losses, lstm_cell_1_layer_call_fn, lstm_cell_1_layer_call_and_return_conditional_losses, lstm_cell_layer_call_fn while saving (showing 5 of 10). These functions will not be directly callable after loading.\n"
     ]
    },
    {
     "name": "stdout",
     "output_type": "stream",
     "text": [
      "INFO:tensorflow:Assets written to: ./saved_models/checkpoints\\best_model\\assets\n"
     ]
    },
    {
     "name": "stderr",
     "output_type": "stream",
     "text": [
      "INFO:tensorflow:Assets written to: ./saved_models/checkpoints\\best_model\\assets\n"
     ]
    },
    {
     "name": "stdout",
     "output_type": "stream",
     "text": [
      "Epoch 9/10\n",
      "478/478 [==============================] - 362s 757ms/step - loss: 5.3156 - accuracy: 0.0475\n",
      "\n",
      "Epoch 00009: accuracy improved from 0.04570 to 0.04852, saving model to ./saved_models/checkpoints\\best_model\n"
     ]
    },
    {
     "name": "stderr",
     "output_type": "stream",
     "text": [
      "WARNING:absl:Found untraced functions such as lstm_cell_layer_call_fn, lstm_cell_layer_call_and_return_conditional_losses, lstm_cell_1_layer_call_fn, lstm_cell_1_layer_call_and_return_conditional_losses, lstm_cell_layer_call_fn while saving (showing 5 of 10). These functions will not be directly callable after loading.\n",
      "WARNING:absl:Found untraced functions such as lstm_cell_layer_call_fn, lstm_cell_layer_call_and_return_conditional_losses, lstm_cell_1_layer_call_fn, lstm_cell_1_layer_call_and_return_conditional_losses, lstm_cell_layer_call_fn while saving (showing 5 of 10). These functions will not be directly callable after loading.\n"
     ]
    },
    {
     "name": "stdout",
     "output_type": "stream",
     "text": [
      "INFO:tensorflow:Assets written to: ./saved_models/checkpoints\\best_model\\assets\n"
     ]
    },
    {
     "name": "stderr",
     "output_type": "stream",
     "text": [
      "INFO:tensorflow:Assets written to: ./saved_models/checkpoints\\best_model\\assets\n"
     ]
    },
    {
     "name": "stdout",
     "output_type": "stream",
     "text": [
      "Epoch 10/10\n",
      "478/478 [==============================] - 360s 754ms/step - loss: 5.2856 - accuracy: 0.0508\n",
      "\n",
      "Epoch 00010: accuracy improved from 0.04852 to 0.05025, saving model to ./saved_models/checkpoints\\best_model\n"
     ]
    },
    {
     "name": "stderr",
     "output_type": "stream",
     "text": [
      "WARNING:absl:Found untraced functions such as lstm_cell_layer_call_fn, lstm_cell_layer_call_and_return_conditional_losses, lstm_cell_1_layer_call_fn, lstm_cell_1_layer_call_and_return_conditional_losses, lstm_cell_layer_call_fn while saving (showing 5 of 10). These functions will not be directly callable after loading.\n",
      "WARNING:absl:Found untraced functions such as lstm_cell_layer_call_fn, lstm_cell_layer_call_and_return_conditional_losses, lstm_cell_1_layer_call_fn, lstm_cell_1_layer_call_and_return_conditional_losses, lstm_cell_layer_call_fn while saving (showing 5 of 10). These functions will not be directly callable after loading.\n"
     ]
    },
    {
     "name": "stdout",
     "output_type": "stream",
     "text": [
      "INFO:tensorflow:Assets written to: ./saved_models/checkpoints\\best_model\\assets\n"
     ]
    },
    {
     "name": "stderr",
     "output_type": "stream",
     "text": [
      "INFO:tensorflow:Assets written to: ./saved_models/checkpoints\\best_model\\assets\n"
     ]
    },
    {
     "data": {
      "text/plain": [
       "<tensorflow.python.keras.callbacks.History at 0x1d816e49f08>"
      ]
     },
     "execution_count": 78,
     "metadata": {},
     "output_type": "execute_result"
    }
   ],
   "source": [
    "model.fit(X_padded, y, epochs=config.epochs, batch_size=config.batch_size, callbacks=my_callbacks) \n",
    "\n",
    "wandb.finish()\n",
    "best_model = tf.keras.models.load_model(\"./saved_models/checkpoints/best_model\")"
   ]
  },
  {
   "cell_type": "markdown",
   "metadata": {
    "id": "7j1k0UAVSiJp"
   },
   "source": [
    "### prediction"
   ]
  },
  {
   "cell_type": "code",
   "execution_count": null,
   "metadata": {
    "id": "CK4MR4KYSF_5"
   },
   "outputs": [],
   "source": [
    "best_model = tf.keras.models.load_model(\"./saved_models/checkpoints/best_model\")\n",
    "prediction = best_model.predict(X_test)\n",
    "\n",
    "results = []\n",
    "for pred in prediction:\n",
    "    pred = list(pred)\n",
    "    sorted_pred = sorted(pred.copy(), reverse=True)\n",
    "    result = []\n",
    "    for i in range(5):\n",
    "        v = sorted_pred[i]\n",
    "        index = list(pred).index(v)\n",
    "        result.append(index)\n",
    "    results.append(result)\n",
    "\n",
    "final_output = []\n",
    "for k in results:\n",
    "    final_output.append(' '.join(map(str, k)))\n",
    "\n",
    "df_test['next_games'] = final_output\n",
    "df_test.drop(['historical_games'], inplace=True, axis=1)\n",
    "df_test"
   ]
  },
  {
   "cell_type": "code",
   "execution_count": null,
   "metadata": {
    "id": "heleE10ySwR9"
   },
   "outputs": [],
   "source": [
    "df_test.to_csv('prediction.csv', index=None)"
   ]
  },
  {
   "cell_type": "markdown",
   "metadata": {
    "id": "4eH_TVmyJiha"
   },
   "source": [
    "### Type 2\n",
    "For augmenting the data and working with same-length historical games, We change the format of the dataset. We split each historical games into 5 segments and fed them into deep learning models."
   ]
  },
  {
   "cell_type": "markdown",
   "metadata": {
    "id": "DS0B7yNlUYGA"
   },
   "source": [
    "### Data preparation"
   ]
  },
  {
   "cell_type": "code",
   "execution_count": 82,
   "metadata": {
    "id": "Ps1M56a8FE9j"
   },
   "outputs": [],
   "source": [
    "df_train = pd.read_csv('train.csv')\n",
    "df_test = pd.read_csv('test.csv')\n",
    "\n",
    "df1 = df_train.apply(lambda x: x['historical_games'] + ' ' + str(x['next_game']), axis=1)\n",
    "df2 = df_test.apply(lambda x: x['historical_games'], axis=1)\n",
    "df = pd.concat([df1, df2])\n",
    "# Tokenizing the data\n",
    "tokenizer  = Tokenizer()\n",
    "tokenizer.fit_on_texts(df.values)"
   ]
  },
  {
   "cell_type": "code",
   "execution_count": 83,
   "metadata": {
    "colab": {
     "base_uri": "https://localhost:8080/",
     "height": 204
    },
    "id": "qabJ8DFBFE_p",
    "outputId": "ebe9c640-9270-43bb-b907-6e60a9e40335"
   },
   "outputs": [
    {
     "data": {
      "text/html": [
       "<div>\n",
       "<style scoped>\n",
       "    .dataframe tbody tr th:only-of-type {\n",
       "        vertical-align: middle;\n",
       "    }\n",
       "\n",
       "    .dataframe tbody tr th {\n",
       "        vertical-align: top;\n",
       "    }\n",
       "\n",
       "    .dataframe thead th {\n",
       "        text-align: right;\n",
       "    }\n",
       "</style>\n",
       "<table border=\"1\" class=\"dataframe\">\n",
       "  <thead>\n",
       "    <tr style=\"text-align: right;\">\n",
       "      <th></th>\n",
       "      <th>id</th>\n",
       "      <th>tokenized_history</th>\n",
       "      <th>tokenized_next_game</th>\n",
       "    </tr>\n",
       "  </thead>\n",
       "  <tbody>\n",
       "    <tr>\n",
       "      <th>0</th>\n",
       "      <td>2</td>\n",
       "      <td>[5, 14, 236, 4580, 291, 51, 1142, 207]</td>\n",
       "      <td>126</td>\n",
       "    </tr>\n",
       "    <tr>\n",
       "      <th>1</th>\n",
       "      <td>4</td>\n",
       "      <td>[283, 266, 1, 163, 14]</td>\n",
       "      <td>104</td>\n",
       "    </tr>\n",
       "    <tr>\n",
       "      <th>2</th>\n",
       "      <td>7</td>\n",
       "      <td>[94, 139, 145, 60, 1709]</td>\n",
       "      <td>309</td>\n",
       "    </tr>\n",
       "    <tr>\n",
       "      <th>3</th>\n",
       "      <td>10</td>\n",
       "      <td>[8, 121, 12, 6, 32, 5930]</td>\n",
       "      <td>22</td>\n",
       "    </tr>\n",
       "    <tr>\n",
       "      <th>4</th>\n",
       "      <td>18</td>\n",
       "      <td>[6, 222, 5, 656, 172, 4, 783, 93, 730, 5405, 1...</td>\n",
       "      <td>240</td>\n",
       "    </tr>\n",
       "  </tbody>\n",
       "</table>\n",
       "</div>"
      ],
      "text/plain": [
       "   id                                  tokenized_history  tokenized_next_game\n",
       "0   2             [5, 14, 236, 4580, 291, 51, 1142, 207]                  126\n",
       "1   4                             [283, 266, 1, 163, 14]                  104\n",
       "2   7                           [94, 139, 145, 60, 1709]                  309\n",
       "3  10                          [8, 121, 12, 6, 32, 5930]                   22\n",
       "4  18  [6, 222, 5, 656, 172, 4, 783, 93, 730, 5405, 1...                  240"
      ]
     },
     "execution_count": 83,
     "metadata": {
      "tags": []
     },
     "output_type": "execute_result"
    }
   ],
   "source": [
    "df_train['tokenized_history'] = df_train.apply(lambda x: tokenizer.texts_to_sequences([x['historical_games']])[0], axis=1).values\n",
    "df_train['tokenized_next_game'] = df_train.apply(lambda x: tokenizer.texts_to_sequences([str(x['next_game'])])[0][0], axis=1).values\n",
    "df_train.drop(['historical_games', 'next_game'], axis=1, inplace=True)\n",
    "\n",
    "df_test['tokenized_history'] = df_test.apply(lambda x: tokenizer.texts_to_sequences([x['historical_games']])[0], axis=1).values\n",
    "df_test.drop(['historical_games'], axis=1, inplace=True)\n",
    "df_train.head()"
   ]
  },
  {
   "cell_type": "code",
   "execution_count": 84,
   "metadata": {
    "id": "XyUqXJh7FFB1"
   },
   "outputs": [],
   "source": [
    "data = [i for i in df_train['tokenized_history']]\n",
    "next_game = df_train['tokenized_next_game'].values\n",
    "for i in range(len(data)):\n",
    "    data[i].append(next_game[i])"
   ]
  },
  {
   "cell_type": "code",
   "execution_count": 85,
   "metadata": {
    "colab": {
     "base_uri": "https://localhost:8080/"
    },
    "id": "IntI1-rRFFEf",
    "outputId": "5dd989c2-d52d-440f-aef8-1421fe81d615"
   },
   "outputs": [
    {
     "name": "stdout",
     "output_type": "stream",
     "text": [
      "Before: \n",
      "[5, 14, 236, 4580, 291, 51, 1142, 207, 126]\n",
      "After: \n",
      "[[5, 14, 236, 4580, 291, 51], [14, 236, 4580, 291, 51, 1142], [236, 4580, 291, 51, 1142, 207], [4580, 291, 51, 1142, 207, 126]]\n"
     ]
    }
   ],
   "source": [
    "# Segmenting the data into 2 part\n",
    "new_data = []\n",
    "for i in range(len(data)):\n",
    "    for j in range(len(data[i])):\n",
    "        k = j+6\n",
    "        if k > len(data[i]):\n",
    "            break\n",
    "        new_data.append(data[i][j:k])\n",
    "\n",
    "print('Before: ')\n",
    "print(data[0])\n",
    "print('After: ')\n",
    "print(new_data[:4])"
   ]
  },
  {
   "cell_type": "code",
   "execution_count": 86,
   "metadata": {
    "colab": {
     "base_uri": "https://localhost:8080/"
    },
    "id": "22W0YrxiUmKo",
    "outputId": "2af82ebf-f2b5-4169-cee0-823b45c9a205"
   },
   "outputs": [
    {
     "name": "stdout",
     "output_type": "stream",
     "text": [
      "Number of new test data: 13252\n",
      "Number of new training data: 48380\n"
     ]
    }
   ],
   "source": [
    "# Augmenting the dataset\n",
    "data = [i for i in df_test['tokenized_history']]\n",
    "user_ids = df_test['id'].values\n",
    "test_set = []\n",
    "ids_set = []\n",
    "training_set = []\n",
    "flag = True\n",
    "c=0\n",
    "for row, ids in zip(data, user_ids):\n",
    "    flag = True\n",
    "    c+=1\n",
    "    if len(row) == 5:\n",
    "        if flag:\n",
    "            test_set.append(row)\n",
    "            flag = False\n",
    "    else:\n",
    "        for j in range(len(row)):\n",
    "            k = j+6\n",
    "            if k > len(row):\n",
    "                break\n",
    "            if row[-1] in row[j:k]:\n",
    "                test_set.append(row[j+1:k])\n",
    "                ids_set.append(ids)\n",
    "            else:\n",
    "                training_set.append(row[j:k])\n",
    "\n",
    "# test_set.sort()                \n",
    "# test_set = list(k for k,_ in itertools.groupby(test_set))\n",
    "\n",
    "print('Number of new test data: {}'.format(len(test_set)))\n",
    "print('Number of new training data: {}'.format(len(training_set)))"
   ]
  },
  {
   "cell_type": "code",
   "execution_count": 80,
   "metadata": {
    "colab": {
     "base_uri": "https://localhost:8080/",
     "height": 204
    },
    "id": "ztxZhGJ9Ur9B",
    "outputId": "8d847025-9ca0-4fe4-9e7d-64d1777a9fc6"
   },
   "outputs": [
    {
     "data": {
      "text/html": [
       "<div>\n",
       "<style scoped>\n",
       "    .dataframe tbody tr th:only-of-type {\n",
       "        vertical-align: middle;\n",
       "    }\n",
       "\n",
       "    .dataframe tbody tr th {\n",
       "        vertical-align: top;\n",
       "    }\n",
       "\n",
       "    .dataframe thead th {\n",
       "        text-align: right;\n",
       "    }\n",
       "</style>\n",
       "<table border=\"1\" class=\"dataframe\">\n",
       "  <thead>\n",
       "    <tr style=\"text-align: right;\">\n",
       "      <th></th>\n",
       "      <th>0</th>\n",
       "      <th>1</th>\n",
       "      <th>2</th>\n",
       "      <th>3</th>\n",
       "      <th>4</th>\n",
       "      <th>5</th>\n",
       "    </tr>\n",
       "  </thead>\n",
       "  <tbody>\n",
       "    <tr>\n",
       "      <th>0</th>\n",
       "      <td>5</td>\n",
       "      <td>14</td>\n",
       "      <td>236</td>\n",
       "      <td>4580</td>\n",
       "      <td>291</td>\n",
       "      <td>51</td>\n",
       "    </tr>\n",
       "    <tr>\n",
       "      <th>1</th>\n",
       "      <td>14</td>\n",
       "      <td>236</td>\n",
       "      <td>4580</td>\n",
       "      <td>291</td>\n",
       "      <td>51</td>\n",
       "      <td>1142</td>\n",
       "    </tr>\n",
       "    <tr>\n",
       "      <th>2</th>\n",
       "      <td>236</td>\n",
       "      <td>4580</td>\n",
       "      <td>291</td>\n",
       "      <td>51</td>\n",
       "      <td>1142</td>\n",
       "      <td>207</td>\n",
       "    </tr>\n",
       "    <tr>\n",
       "      <th>3</th>\n",
       "      <td>4580</td>\n",
       "      <td>291</td>\n",
       "      <td>51</td>\n",
       "      <td>1142</td>\n",
       "      <td>207</td>\n",
       "      <td>126</td>\n",
       "    </tr>\n",
       "    <tr>\n",
       "      <th>4</th>\n",
       "      <td>283</td>\n",
       "      <td>266</td>\n",
       "      <td>1</td>\n",
       "      <td>163</td>\n",
       "      <td>14</td>\n",
       "      <td>104</td>\n",
       "    </tr>\n",
       "  </tbody>\n",
       "</table>\n",
       "</div>"
      ],
      "text/plain": [
       "      0     1     2     3     4     5\n",
       "0     5    14   236  4580   291    51\n",
       "1    14   236  4580   291    51  1142\n",
       "2   236  4580   291    51  1142   207\n",
       "3  4580   291    51  1142   207   126\n",
       "4   283   266     1   163    14   104"
      ]
     },
     "execution_count": 80,
     "metadata": {
      "tags": []
     },
     "output_type": "execute_result"
    }
   ],
   "source": [
    "test_set = list(df_test.apply(lambda x: x['tokenized_history'][-5:], axis=1))\n",
    "\n",
    "for i in training_set:\n",
    "    new_data.append(i)\n",
    "\n",
    "new_df_train = pd.DataFrame(new_data)\n",
    "new_df_train.head()"
   ]
  },
  {
   "cell_type": "code",
   "execution_count": 81,
   "metadata": {
    "colab": {
     "base_uri": "https://localhost:8080/",
     "height": 204
    },
    "id": "u9nbmBiTUu2f",
    "outputId": "2a293bc4-31c1-4912-b3eb-fc4bd45c0d7d"
   },
   "outputs": [
    {
     "data": {
      "text/html": [
       "<div>\n",
       "<style scoped>\n",
       "    .dataframe tbody tr th:only-of-type {\n",
       "        vertical-align: middle;\n",
       "    }\n",
       "\n",
       "    .dataframe tbody tr th {\n",
       "        vertical-align: top;\n",
       "    }\n",
       "\n",
       "    .dataframe thead th {\n",
       "        text-align: right;\n",
       "    }\n",
       "</style>\n",
       "<table border=\"1\" class=\"dataframe\">\n",
       "  <thead>\n",
       "    <tr style=\"text-align: right;\">\n",
       "      <th></th>\n",
       "      <th>0</th>\n",
       "      <th>1</th>\n",
       "      <th>2</th>\n",
       "      <th>3</th>\n",
       "      <th>4</th>\n",
       "    </tr>\n",
       "  </thead>\n",
       "  <tbody>\n",
       "    <tr>\n",
       "      <th>0</th>\n",
       "      <td>97</td>\n",
       "      <td>2713</td>\n",
       "      <td>739</td>\n",
       "      <td>206</td>\n",
       "      <td>297</td>\n",
       "    </tr>\n",
       "    <tr>\n",
       "      <th>1</th>\n",
       "      <td>244</td>\n",
       "      <td>6268</td>\n",
       "      <td>925</td>\n",
       "      <td>23</td>\n",
       "      <td>191</td>\n",
       "    </tr>\n",
       "    <tr>\n",
       "      <th>2</th>\n",
       "      <td>226</td>\n",
       "      <td>6</td>\n",
       "      <td>22</td>\n",
       "      <td>319</td>\n",
       "      <td>112</td>\n",
       "    </tr>\n",
       "    <tr>\n",
       "      <th>3</th>\n",
       "      <td>17</td>\n",
       "      <td>2520</td>\n",
       "      <td>735</td>\n",
       "      <td>6</td>\n",
       "      <td>680</td>\n",
       "    </tr>\n",
       "    <tr>\n",
       "      <th>4</th>\n",
       "      <td>13</td>\n",
       "      <td>62</td>\n",
       "      <td>1</td>\n",
       "      <td>283</td>\n",
       "      <td>495</td>\n",
       "    </tr>\n",
       "  </tbody>\n",
       "</table>\n",
       "</div>"
      ],
      "text/plain": [
       "     0     1    2    3    4\n",
       "0   97  2713  739  206  297\n",
       "1  244  6268  925   23  191\n",
       "2  226     6   22  319  112\n",
       "3   17  2520  735    6  680\n",
       "4   13    62    1  283  495"
      ]
     },
     "execution_count": 81,
     "metadata": {
      "tags": []
     },
     "output_type": "execute_result"
    }
   ],
   "source": [
    "new_df_test = pd.DataFrame(test_set)\n",
    "new_df_test.head()"
   ]
  },
  {
   "cell_type": "markdown",
   "metadata": {
    "id": "G5ROmS7_VNzT"
   },
   "source": [
    "### Model training"
   ]
  },
  {
   "cell_type": "code",
   "execution_count": 87,
   "metadata": {
    "colab": {
     "base_uri": "https://localhost:8080/"
    },
    "id": "4Crt2ImxUwhV",
    "outputId": "a4eea7af-6399-4495-8389-5c5eb3bb2c20"
   },
   "outputs": [
    {
     "name": "stdout",
     "output_type": "stream",
     "text": [
      "Unique items: 7805\n"
     ]
    }
   ],
   "source": [
    "vocabulary_size = len(tokenizer.word_index) + 1\n",
    "print('Unique items: %d' % vocabulary_size)"
   ]
  },
  {
   "cell_type": "code",
   "execution_count": 88,
   "metadata": {
    "id": "h3slBxAeUwjt"
   },
   "outputs": [],
   "source": [
    "X = new_df_train.iloc[:, 0:5].values\n",
    "y = new_df_train.iloc[:, 5].values"
   ]
  },
  {
   "cell_type": "code",
   "execution_count": 89,
   "metadata": {
    "colab": {
     "base_uri": "https://localhost:8080/"
    },
    "id": "8ePfDR0pUwl_",
    "outputId": "6a1785b8-4be4-4f86-cfc6-970a5bb5f14f"
   },
   "outputs": [
    {
     "data": {
      "text/plain": [
       "5"
      ]
     },
     "execution_count": 89,
     "metadata": {
      "tags": []
     },
     "output_type": "execute_result"
    }
   ],
   "source": [
    "max_len = max([len(seq) for seq in X])\n",
    "max_len"
   ]
  },
  {
   "cell_type": "code",
   "execution_count": 90,
   "metadata": {
    "colab": {
     "base_uri": "https://localhost:8080/"
    },
    "id": "Bw1OALAuVXVf",
    "outputId": "e0fe7e92-cdca-4106-82b9-27a951511cb5"
   },
   "outputs": [
    {
     "data": {
      "text/plain": [
       "(218654, 5, 1)"
      ]
     },
     "execution_count": 90,
     "metadata": {
      "tags": []
     },
     "output_type": "execute_result"
    }
   ],
   "source": [
    "X = X.reshape(X.shape[0], X.shape[1], 1)\n",
    "X.shape"
   ]
  },
  {
   "cell_type": "code",
   "execution_count": 91,
   "metadata": {
    "colab": {
     "base_uri": "https://localhost:8080/"
    },
    "id": "-n226I78VYi0",
    "outputId": "e54feec7-9952-49b8-9d69-fe3a484fc35c"
   },
   "outputs": [
    {
     "data": {
      "text/plain": [
       "array([[0., 0., 0., ..., 0., 0., 0.],\n",
       "       [0., 0., 0., ..., 0., 0., 0.],\n",
       "       [0., 0., 0., ..., 0., 0., 0.],\n",
       "       ...,\n",
       "       [0., 0., 0., ..., 0., 0., 0.],\n",
       "       [0., 0., 0., ..., 0., 0., 0.],\n",
       "       [0., 0., 0., ..., 0., 0., 0.]], dtype=float32)"
      ]
     },
     "execution_count": 91,
     "metadata": {
      "tags": []
     },
     "output_type": "execute_result"
    }
   ],
   "source": [
    "y = to_categorical(y, num_classes=vocabulary_size)\n",
    "y"
   ]
  },
  {
   "cell_type": "markdown",
   "metadata": {
    "id": "ZzTAbbdMVwh1"
   },
   "source": [
    "#### LSTM"
   ]
  },
  {
   "cell_type": "code",
   "execution_count": 102,
   "metadata": {
    "scrolled": true
   },
   "outputs": [
    {
     "name": "stdout",
     "output_type": "stream",
     "text": [
      "Epoch 1/10\n",
      "WARNING:tensorflow:Model was constructed with shape (None, 4) for input KerasTensor(type_spec=TensorSpec(shape=(None, 4), dtype=tf.float32, name='embedding_input'), name='embedding_input', description=\"created by layer 'embedding_input'\"), but it was called on an input with incompatible shape (None, 5).\n",
      "WARNING:tensorflow:Model was constructed with shape (None, 4) for input KerasTensor(type_spec=TensorSpec(shape=(None, 4), dtype=tf.float32, name='embedding_input'), name='embedding_input', description=\"created by layer 'embedding_input'\"), but it was called on an input with incompatible shape (None, 5).\n",
      "5467/5467 [==============================] - ETA: 0s - loss: 7.5156 - accuracy: 0.0118WARNING:tensorflow:Model was constructed with shape (None, 4) for input KerasTensor(type_spec=TensorSpec(shape=(None, 4), dtype=tf.float32, name='embedding_input'), name='embedding_input', description=\"created by layer 'embedding_input'\"), but it was called on an input with incompatible shape (None, 5).\n",
      "5467/5467 [==============================] - 122s 22ms/step - loss: 7.5156 - accuracy: 0.0118 - val_loss: 7.5700 - val_accuracy: 0.0155\n",
      "Epoch 2/10\n",
      "5467/5467 [==============================] - 100s 18ms/step - loss: 7.1696 - accuracy: 0.0180 - val_loss: 7.4183 - val_accuracy: 0.0207\n",
      "Epoch 3/10\n",
      "5467/5467 [==============================] - 99s 18ms/step - loss: 7.0020 - accuracy: 0.0247 - val_loss: 7.3919 - val_accuracy: 0.0272\n",
      "Epoch 4/10\n",
      "5467/5467 [==============================] - 102s 19ms/step - loss: 6.9335 - accuracy: 0.0291 - val_loss: 7.3075 - val_accuracy: 0.0313\n",
      "Epoch 5/10\n",
      "5467/5467 [==============================] - 103s 19ms/step - loss: 6.8506 - accuracy: 0.0318 - val_loss: 7.2851 - val_accuracy: 0.0346\n",
      "Epoch 6/10\n",
      "5467/5467 [==============================] - 104s 19ms/step - loss: 6.7840 - accuracy: 0.0351 - val_loss: 7.2506 - val_accuracy: 0.0347\n",
      "Epoch 7/10\n",
      "5467/5467 [==============================] - 94s 17ms/step - loss: 6.7512 - accuracy: 0.0373 - val_loss: 7.2397 - val_accuracy: 0.0352\n",
      "Epoch 8/10\n",
      "5467/5467 [==============================] - 100s 18ms/step - loss: 6.7116 - accuracy: 0.0387 - val_loss: 7.2316 - val_accuracy: 0.0350\n",
      "Epoch 9/10\n",
      "5467/5467 [==============================] - 98s 18ms/step - loss: 6.6737 - accuracy: 0.0396 - val_loss: 7.2098 - val_accuracy: 0.0365\n",
      "Epoch 10/10\n",
      "5467/5467 [==============================] - 100s 18ms/step - loss: 6.6330 - accuracy: 0.0412 - val_loss: 7.2112 - val_accuracy: 0.0370\n"
     ]
    }
   ],
   "source": [
    "clear_session()\n",
    "model = Sequential()\n",
    "model.add(Embedding(vocabulary_size, 5, input_length=max_len - 1))\n",
    "model.add(Dropout(0.2))\n",
    "model.add(LSTM(100))\n",
    "model.add(Dropout(0.2))\n",
    "model.add(Dense(vocabulary_size, activation='softmax'))\n",
    "model.compile(loss='categorical_crossentropy', optimizer='adam', metrics=['accuracy'])\n",
    "\n",
    "history = model.fit(X, y, validation_split=0.2, verbose=1, epochs=10)"
   ]
  },
  {
   "cell_type": "markdown",
   "metadata": {
    "id": "ZmBeeNXDVgJG"
   },
   "source": [
    "#### Bi-LSTM"
   ]
  },
  {
   "cell_type": "code",
   "execution_count": 41,
   "metadata": {
    "scrolled": true
   },
   "outputs": [
    {
     "name": "stdout",
     "output_type": "stream",
     "text": [
      "Epoch 1/10\n",
      "WARNING:tensorflow:Model was constructed with shape (None, 4) for input KerasTensor(type_spec=TensorSpec(shape=(None, 4), dtype=tf.float32, name='embedding_input'), name='embedding_input', description=\"created by layer 'embedding_input'\"), but it was called on an input with incompatible shape (None, 5).\n",
      "WARNING:tensorflow:Model was constructed with shape (None, 4) for input KerasTensor(type_spec=TensorSpec(shape=(None, 4), dtype=tf.float32, name='embedding_input'), name='embedding_input', description=\"created by layer 'embedding_input'\"), but it was called on an input with incompatible shape (None, 5).\n",
      "6833/6833 [==============================] - 103s 14ms/step - loss: 7.5974 - accuracy: 0.0116\n",
      "Epoch 2/10\n",
      "6833/6833 [==============================] - 67s 10ms/step - loss: 7.2898 - accuracy: 0.0153\n",
      "Epoch 3/10\n",
      "6833/6833 [==============================] - 78s 11ms/step - loss: 7.1069 - accuracy: 0.0219\n",
      "Epoch 4/10\n",
      "6833/6833 [==============================] - 103s 15ms/step - loss: 6.9780 - accuracy: 0.0251\n",
      "Epoch 5/10\n",
      "6833/6833 [==============================] - 104s 15ms/step - loss: 6.9296 - accuracy: 0.0271\n",
      "Epoch 6/10\n",
      "6833/6833 [==============================] - 102s 15ms/step - loss: 6.8910 - accuracy: 0.0312\n",
      "Epoch 7/10\n",
      "6833/6833 [==============================] - 154s 23ms/step - loss: 6.8601 - accuracy: 0.0353\n",
      "Epoch 8/10\n",
      "6833/6833 [==============================] - 141s 21ms/step - loss: 6.8239 - accuracy: 0.0371\n",
      "Epoch 9/10\n",
      "6833/6833 [==============================] - 95s 14ms/step - loss: 6.7909 - accuracy: 0.0383\n",
      "Epoch 10/10\n",
      "6833/6833 [==============================] - 83s 12ms/step - loss: 6.7618 - accuracy: 0.0390\n"
     ]
    }
   ],
   "source": [
    "clear_session()\n",
    "model = Sequential()\n",
    "model.add(Embedding(vocabulary_size, 5, input_length=max_len - 1))\n",
    "model.add(Bidirectional(LSTM(10)))\n",
    "model.add(Dropout(0.2))\n",
    "model.add(Dense(vocabulary_size, activation='softmax'))\n",
    "model.compile(loss='categorical_crossentropy', optimizer='adam', metrics=['accuracy'])\n",
    "\n",
    "history = model.fit(X, y, verbose=1, epochs=10)"
   ]
  },
  {
   "cell_type": "markdown",
   "metadata": {
    "id": "Av-Lri3QV2xt"
   },
   "source": [
    "### Prediction"
   ]
  },
  {
   "cell_type": "code",
   "execution_count": null,
   "metadata": {
    "id": "0gM086eaV4FW"
   },
   "outputs": [],
   "source": [
    "x_test = new_df_test.iloc[:, :].values\n",
    "prediction = model.predict(x_test)"
   ]
  },
  {
   "cell_type": "code",
   "execution_count": null,
   "metadata": {
    "id": "bPgWEbSmV8LW"
   },
   "outputs": [],
   "source": [
    "results = []\n",
    "for pred in prediction:\n",
    "    pred = list(pred)\n",
    "    sorted_pred = sorted(pred.copy(), reverse=True)\n",
    "    result = []\n",
    "    for i in range(5):\n",
    "        v = sorted_pred[i]\n",
    "        index = list(pred).index(v)\n",
    "        result.append(tokenizer.word_index[str(index)])\n",
    "    results.append(result)\n",
    "\n",
    "final_output = []\n",
    "for k in results:\n",
    "    final_output.append(' '.join(map(str, k)))\n",
    "\n",
    "df_test = pd.read_csv('test.csv')\n",
    "df_test['next_games'] = final_output\n",
    "df_test.drop(['historical_games'], inplace=True, axis=1)"
   ]
  },
  {
   "cell_type": "code",
   "execution_count": null,
   "metadata": {
    "id": "m1bImkycWS4y"
   },
   "outputs": [],
   "source": [
    "df_test.to_csv('prediction.csv', index=None)"
   ]
  },
  {
   "cell_type": "markdown",
   "metadata": {},
   "source": [
    "# Discussion\n",
    "Based on the result of the above models, the best result was achieved by the collaborative filtering method. The result of each models on the quera is as follows:\n",
    "\n",
    "| Model | Quera Score |\n",
    "| ------ | ------ |\n",
    "| Collaborative Filtering | 130 |\n",
    "| Type1 LSTM | 105 |\n",
    "| Type2 Bi-LSTM | 73 |\n"
   ]
  }
 ],
 "metadata": {
  "colab": {
   "collapsed_sections": [],
   "name": "Similarity_recommendation.ipynb",
   "provenance": []
  },
  "kernelspec": {
   "display_name": "Python 3",
   "language": "python",
   "name": "python3"
  },
  "language_info": {
   "codemirror_mode": {
    "name": "ipython",
    "version": 3
   },
   "file_extension": ".py",
   "mimetype": "text/x-python",
   "name": "python",
   "nbconvert_exporter": "python",
   "pygments_lexer": "ipython3",
   "version": "3.7.9"
  }
 },
 "nbformat": 4,
 "nbformat_minor": 1
}
